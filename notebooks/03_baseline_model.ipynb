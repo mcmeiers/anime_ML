{
 "cells": [
  {
   "cell_type": "code",
   "execution_count": 1,
   "metadata": {},
   "outputs": [],
   "source": [
    "import numpy as np\n",
    "import pandas as pd\n",
    "import matplotlib.pyplot as plt\n",
    "from sklearn.neighbors import NearestNeighbors\n",
    "import warnings\n",
    "\n",
    "np.random.seed(8)\n",
    "warnings.filterwarnings(action=\"ignore\")"
   ]
  },
  {
   "cell_type": "code",
   "execution_count": 2,
   "metadata": {},
   "outputs": [
    {
     "data": {
      "text/html": [
       "<div>\n",
       "<style scoped>\n",
       "    .dataframe tbody tr th:only-of-type {\n",
       "        vertical-align: middle;\n",
       "    }\n",
       "\n",
       "    .dataframe tbody tr th {\n",
       "        vertical-align: top;\n",
       "    }\n",
       "\n",
       "    .dataframe thead th {\n",
       "        text-align: right;\n",
       "    }\n",
       "</style>\n",
       "<table border=\"1\" class=\"dataframe\">\n",
       "  <thead>\n",
       "    <tr style=\"text-align: right;\">\n",
       "      <th></th>\n",
       "      <th>Name</th>\n",
       "      <th>Genres</th>\n",
       "      <th>Type</th>\n",
       "    </tr>\n",
       "    <tr>\n",
       "      <th>MAL_ID</th>\n",
       "      <th></th>\n",
       "      <th></th>\n",
       "      <th></th>\n",
       "    </tr>\n",
       "  </thead>\n",
       "  <tbody>\n",
       "    <tr>\n",
       "      <th>1</th>\n",
       "      <td>Cowboy Bebop</td>\n",
       "      <td>Action, Adventure, Comedy, Drama, Sci-Fi, Space</td>\n",
       "      <td>TV</td>\n",
       "    </tr>\n",
       "    <tr>\n",
       "      <th>6</th>\n",
       "      <td>Trigun</td>\n",
       "      <td>Action, Sci-Fi, Adventure, Comedy, Drama, Shounen</td>\n",
       "      <td>TV</td>\n",
       "    </tr>\n",
       "    <tr>\n",
       "      <th>7</th>\n",
       "      <td>Witch Hunter Robin</td>\n",
       "      <td>Action, Mystery, Police, Supernatural, Drama, ...</td>\n",
       "      <td>TV</td>\n",
       "    </tr>\n",
       "    <tr>\n",
       "      <th>8</th>\n",
       "      <td>Bouken Ou Beet</td>\n",
       "      <td>Adventure, Fantasy, Shounen, Supernatural</td>\n",
       "      <td>TV</td>\n",
       "    </tr>\n",
       "    <tr>\n",
       "      <th>15</th>\n",
       "      <td>Eyeshield 21</td>\n",
       "      <td>Action, Sports, Comedy, Shounen</td>\n",
       "      <td>TV</td>\n",
       "    </tr>\n",
       "  </tbody>\n",
       "</table>\n",
       "</div>"
      ],
      "text/plain": [
       "                      Name                                             Genres  \\\n",
       "MAL_ID                                                                          \n",
       "1             Cowboy Bebop    Action, Adventure, Comedy, Drama, Sci-Fi, Space   \n",
       "6                   Trigun  Action, Sci-Fi, Adventure, Comedy, Drama, Shounen   \n",
       "7       Witch Hunter Robin  Action, Mystery, Police, Supernatural, Drama, ...   \n",
       "8           Bouken Ou Beet          Adventure, Fantasy, Shounen, Supernatural   \n",
       "15            Eyeshield 21                    Action, Sports, Comedy, Shounen   \n",
       "\n",
       "       Type  \n",
       "MAL_ID       \n",
       "1        TV  \n",
       "6        TV  \n",
       "7        TV  \n",
       "8        TV  \n",
       "15       TV  "
      ]
     },
     "execution_count": 2,
     "metadata": {},
     "output_type": "execute_result"
    }
   ],
   "source": [
    "#We are only interested in Animes (Type == \"TV\") and we will only use Genres for recommending similar animes\n",
    "anime_df = pd.read_csv('../data/raw/anime.csv',\n",
    "                       usecols=[\"MAL_ID\", \"Name\", \"Genres\", \"Type\"], index_col= \"MAL_ID\")\n",
    "anime_df = anime_df.loc[anime_df['Type'] == 'TV']\n",
    "anime_df.head()\n"
   ]
  },
  {
   "cell_type": "code",
   "execution_count": 3,
   "metadata": {},
   "outputs": [],
   "source": [
    "# Drop the animes with null values and remove duplicates if any\n",
    "clean_anime_df = anime_df[anime_df.Genres.notna()]\n",
    "clean_anime_df = clean_anime_df.drop_duplicates()"
   ]
  },
  {
   "cell_type": "code",
   "execution_count": 4,
   "metadata": {},
   "outputs": [],
   "source": [
    "# First, split the genre column by comma and expand the list so there is\n",
    "# a column for each genre. \n",
    "genres = clean_anime_df.Genres.str.split(\", \", expand=True)"
   ]
  },
  {
   "cell_type": "code",
   "execution_count": 5,
   "metadata": {},
   "outputs": [
    {
     "data": {
      "text/plain": [
       "array(['Action', 'Adventure', 'Comedy', 'Slice of Life', 'Drama', 'Game',\n",
       "       'Sci-Fi', 'Harem', 'Military', 'Space', 'Music', 'Mecha',\n",
       "       'Supernatural', 'Historical', 'Mystery', 'School', 'Fantasy',\n",
       "       'Ecchi', 'Kids', 'Sports', 'Horror', 'Dementia', 'Magic',\n",
       "       'Psychological', 'Cars', 'Shounen', 'Demons', 'Romance', 'Parody',\n",
       "       'Thriller', 'Seinen', 'Super Power', 'Unknown', 'Martial Arts',\n",
       "       'Shounen Ai', 'Josei', 'Shoujo', 'Samurai', 'Police', 'Shoujo Ai',\n",
       "       'Vampire'], dtype=object)"
      ]
     },
     "execution_count": 5,
     "metadata": {},
     "output_type": "execute_result"
    }
   ],
   "source": [
    "# Now we can get the list of unique genres. We \"convert\" the dataframe into\n",
    "# a single dimension array and take the unique values\n",
    "unique_genres = pd.Series(genres.values.ravel('K')).dropna().unique()\n",
    "unique_genres\n"
   ]
  },
  {
   "cell_type": "code",
   "execution_count": 6,
   "metadata": {},
   "outputs": [],
   "source": [
    "# Getting the dummy variables will result in having a lot more columns\n",
    "# than unique genres\n",
    "dummies = pd.get_dummies(genres)\n"
   ]
  },
  {
   "cell_type": "code",
   "execution_count": 7,
   "metadata": {},
   "outputs": [],
   "source": [
    "# So we sum up the columns with the same genre to have a single column for\n",
    "# each genre\n",
    "for genre in unique_genres:\n",
    "    clean_anime_df[genre] = dummies.loc[:,dummies.columns.str.endswith(genre)].sum(axis=1)"
   ]
  },
  {
   "cell_type": "code",
   "execution_count": 8,
   "metadata": {},
   "outputs": [],
   "source": [
    "#Since we have separate column for each genre, we can remove the other unnecessary cols\n",
    "genre_df = clean_anime_df.drop(\n",
    "    columns=[\"Name\", \"Genres\", \"Type\"])"
   ]
  },
  {
   "cell_type": "code",
   "execution_count": 9,
   "metadata": {},
   "outputs": [
    {
     "data": {
      "text/plain": [
       "NearestNeighbors(algorithm='brute', metric='cosine')"
      ]
     },
     "execution_count": 9,
     "metadata": {},
     "output_type": "execute_result"
    }
   ],
   "source": [
    "from sklearn.neighbors import NearestNeighbors\n",
    "from scipy.sparse import csr_matrix\n",
    "\n",
    "anime_matrix = csr_matrix(genre_df.values)\n",
    "\n",
    "\n",
    "model_knn = NearestNeighbors(metric='cosine', algorithm='brute')\n",
    "model_knn.fit(anime_matrix)\n"
   ]
  },
  {
   "cell_type": "code",
   "execution_count": 10,
   "metadata": {},
   "outputs": [],
   "source": [
    "def get_index_from_title(title):\n",
    "    return clean_anime_df[clean_anime_df.Name == title].index"
   ]
  },
  {
   "cell_type": "code",
   "execution_count": 11,
   "metadata": {},
   "outputs": [],
   "source": [
    "#Enter the exact title of the anime here. \n",
    "query_title = \"Tokyo Ghoul\"\n",
    "idx = get_index_from_title(query_title).values[0]"
   ]
  },
  {
   "cell_type": "code",
   "execution_count": 12,
   "metadata": {},
   "outputs": [],
   "source": [
    "#Calculate the nearest animes and their respective distances\n",
    "distances, indices = model_knn.kneighbors(\n",
    "    genre_df[genre_df.index == idx].values.reshape(1, -1), n_neighbors=11)\n"
   ]
  },
  {
   "cell_type": "code",
   "execution_count": 13,
   "metadata": {},
   "outputs": [
    {
     "name": "stdout",
     "output_type": "stream",
     "text": [
      "Recommendations for Tokyo Ghoul:\n",
      "\n",
      "1: Tokyo Ghoul, with distance of 3.3306690738754696e-16:\n",
      "2: Tokyo Ghoul √A, with distance of 3.3306690738754696e-16:\n",
      "3: Tokyo Ghoul:re, with distance of 3.3306690738754696e-16:\n",
      "4: Elfen Lied, with distance of 0.14285714285714313:\n",
      "5: Ajin 2nd Season, with distance of 0.15484574527148354:\n",
      "6: Ajin, with distance of 0.15484574527148354:\n",
      "7: Kokkoku, with distance of 0.15484574527148354:\n",
      "8: Shinsekai yori, with distance of 0.2284832501895404:\n",
      "9: Kiseijuu: Sei no Kakuritsu, with distance of 0.2284832501895404:\n",
      "10: Boogiepop wa Warawanai, with distance of 0.2284832501895404:\n"
     ]
    }
   ],
   "source": [
    "for i in range(0, len(distances.flatten())):\n",
    "    if i == 0:\n",
    "        print('Recommendations for {0}:\\n'.format(\n",
    "            anime_df.Name[idx]))\n",
    "    else:\n",
    "        print('{0}: {1}, with distance of {2}:'.format(\n",
    "            i, np.array(anime_df)[indices.flatten()[i]][0], distances.flatten()[i]))"
   ]
  }
 ],
 "metadata": {
  "kernelspec": {
   "display_name": "Python 3.8.5 ('base')",
   "language": "python",
   "name": "python3"
  },
  "language_info": {
   "codemirror_mode": {
    "name": "ipython",
    "version": 3
   },
   "file_extension": ".py",
   "mimetype": "text/x-python",
   "name": "python",
   "nbconvert_exporter": "python",
   "pygments_lexer": "ipython3",
   "version": "3.8.5"
  },
  "orig_nbformat": 4,
  "vscode": {
   "interpreter": {
    "hash": "fa55ed972a14d9a3633eff1dd39d6c0d9f65c7bde92fc4c9d260c3ad5154e7db"
   }
  }
 },
 "nbformat": 4,
 "nbformat_minor": 2
}
