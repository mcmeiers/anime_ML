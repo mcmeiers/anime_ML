{
 "cells": [
  {
   "cell_type": "markdown",
   "metadata": {},
   "source": [
    "# ML 101\n",
    "Any ML project consists of the following steps:"
   ]
  },
  {
   "cell_type": "markdown",
   "metadata": {},
   "source": [
    "## Data Collection\n",
    "- Data competition websites, (kaggle)\n",
    "- Data repositories,\n",
    "- Databases and\n",
    "- Web Scraping."
   ]
  },
  {
   "cell_type": "markdown",
   "metadata": {},
   "source": [
    "## Data Analysis/Exploration\n",
    "\n",
    "- Exploratory plotting,\n",
    "- Examining basic statistics and\n",
    "- Data manipulation with `pandas` and `numpy`."
   ]
  },
  {
   "cell_type": "markdown",
   "metadata": {},
   "source": [
    "## Data Cleaning and preprocessing\n",
    "\n",
    "- Cleaning data files,\n",
    "- Inputing missing values,\n",
    "- Creating new columns from existing columns\n",
    "- Splitting the data into train_set, test_set and validation_set"
   ]
  },
  {
   "cell_type": "markdown",
   "metadata": {},
   "source": [
    "## Choosing a model\n",
    "- Supervised/Unsupervised learning\n",
    "- Simple models like regression/classifier\n",
    "- More complex models like neural nets\n",
    "- Bias/variance trade off\n",
    "- Choosing an appropriate metric"
   ]
  },
  {
   "cell_type": "markdown",
   "metadata": {},
   "source": [
    "# The code\n",
    "The sklearn library has made writing an ML code easier than ever. "
   ]
  },
  {
   "cell_type": "markdown",
   "metadata": {},
   "source": [
    "### Skeleton of any ML code\n",
    "\n",
    "- Data split: Once you acquire the data in an usable format, the first step is to divide it into training and test sets (We need another validation set for model selection). Read more about train, test and validation sets [here](https://machinelearningmastery.com/difference-test-validation-datasets/)\n",
    "~~~\n",
    "from sklearn.model_selection import train_test_split \n",
    "train_set, test_set = train_test_split(Dataframe)\n",
    "~~~\n",
    "\n",
    "- Model creation: Once you have chosen an appropriate model for your data, we initialize the model. \n",
    "~~~\n",
    "from sklearn.neighbors import KNeighborsClassifier\n",
    "knn = KNeighborsClassifier(args...)\n",
    "~~~\n",
    "\n",
    "- Model training: We need to train the model on our train_set first. This is as simple as\n",
    "~~~\n",
    "knn.fit(train_set)\n",
    "~~~\n",
    "\n",
    "- Model prediction: Once our model is trained, we use it on the test_set to make predictions\n",
    "~~~\n",
    "pred = knn.predict(test_set)\n",
    "~~~\n",
    "\n",
    "- Testing our model: There is a host of metrics that we can assess our model choice by. We need to choose an appropriate one based on our use case.\n",
    "~~~\n",
    "from sklearn.metrics import accuracy_score\n",
    "accuracy = accuracy_score(test_set, pred)\n",
    "~~~\n",
    "\n",
    "That's it! Now let us apply our knowledge to write a ML code for a handwritten digit classifier on the MNIST dataset, popularly known as the Hello World of machine learning."
   ]
  },
  {
   "cell_type": "markdown",
   "metadata": {},
   "source": [
    "# MNIST data set"
   ]
  },
  {
   "cell_type": "markdown",
   "metadata": {},
   "source": [
    "## `sklearn` version\n",
    "\n",
    "sklearn has many useful functions pre-defined for learning ML. The `sklearn` version of this data set is a small sample of the original data with lower resolution images. This version of MNIST data contains 1797 8x8 (64 features) images with each pixel ranging from [0,255]."
   ]
  },
  {
   "cell_type": "code",
   "execution_count": 1,
   "metadata": {},
   "outputs": [],
   "source": [
    "from sklearn.datasets import load_digits"
   ]
  },
  {
   "cell_type": "code",
   "execution_count": 2,
   "metadata": {},
   "outputs": [],
   "source": [
    "## For data handling\n",
    "import pandas as pd\n",
    "import numpy as np\n",
    "\n",
    "## For plotting\n",
    "import matplotlib.pyplot as plt"
   ]
  },
  {
   "cell_type": "code",
   "execution_count": 3,
   "metadata": {},
   "outputs": [],
   "source": [
    "X,y = load_digits(return_X_y=True)\n",
    "X = X/255\n"
   ]
  },
  {
   "cell_type": "code",
   "execution_count": 4,
   "metadata": {},
   "outputs": [
    {
     "data": {
      "image/png": "[encoded data removed]",
      "text/plain": [
       "<Figure size 576x504 with 1 Axes>"
      ]
     },
     "metadata": {},
     "output_type": "display_data"
    }
   ],
   "source": [
    "plt.imshow(X[1,:].reshape(8,8), cmap='gray_r')\n",
    "plt.text(.1,.1,str(y[1]),fontsize=16)\n",
    "plt.xticks([])\n",
    "plt.yticks([])\n",
    "plt.show()"
   ]
  },
  {
   "cell_type": "markdown",
   "metadata": {},
   "source": [
    "Let us first divide the dataset into train and test sets. Here, we are not using data frames yet. Instead we are defining the train and the test (X and y) sets explicitly."
   ]
  },
  {
   "cell_type": "code",
   "execution_count": 5,
   "metadata": {},
   "outputs": [],
   "source": [
    "from sklearn.model_selection import train_test_split\n",
    "\n",
    "X_train, X_test, y_train, y_test = train_test_split(X,y,\n",
    "                                                       test_size=.2,\n",
    "                                                       shuffle=True,\n",
    "                                                       random_state=124,\n",
    "                                                       stratify=y)"
   ]
  },
  {
   "cell_type": "code",
   "execution_count": 6,
   "metadata": {},
   "outputs": [],
   "source": [
    "# Further dividing the train set into the actual training set and validation set\n",
    "X_train_train, X_val, y_train_train, y_val = train_test_split(X_train, y_train,\n",
    "                                                                 test_size=.2,\n",
    "                                                                   shuffle=True,\n",
    "                                                                   random_state=41,\n",
    "                                                                   stratify=y_train)"
   ]
  },
  {
   "cell_type": "markdown",
   "metadata": {},
   "source": [
    "Here we will build two different models to classify handwritten characters into their respective number categories, namely:\n",
    "\n",
    "- k-Nearest neighbor algorithm\n",
    "- Multi-layer classifier neural net"
   ]
  },
  {
   "cell_type": "markdown",
   "id": "e06a44b9",
   "metadata": {},
   "source": [
    "# The $k$ -Nearest Neighbor algorithm\n",
    "\n",
    "The way that $k$ NN makes predictions from the training set is pretty straightforward.\n",
    "- You input a point you would like to predict on, $X^*$,\n",
    "- It finds the $k$ closest points to $X^*$ in the training set, these are called $X^*$'s nearest neighbors,\n",
    "- The categories of each of the nearest neighbors are tabulated and\n",
    "- The category that recieves the most <i>votes</i> is what is predicted for $X^*$,\n",
    "    - If there is a tie between two or more categories, the prediction is chosen at random from the tied classes.\n",
    "    "
   ]
  },
  {
   "cell_type": "markdown",
   "id": "32bda1c8",
   "metadata": {},
   "source": [
    "## $k$ NN in `sklearn`"
   ]
  },
  {
   "cell_type": "markdown",
   "id": "b4cff435",
   "metadata": {},
   "source": [
    "$k$ NN can be implemented in `sklearn` with `KNeighborsClassifier`, <a href=\"https://scikit-learn.org/stable/modules/generated/sklearn.neighbors.KNeighborsClassifier.html\">https://scikit-learn.org/stable/modules/generated/sklearn.neighbors.KNeighborsClassifier.html</a>.\n",
    "\n",
    "We will now build a $k$ NN classifier using this model object, with $k=5$. "
   ]
  },
  {
   "cell_type": "code",
   "execution_count": 7,
   "id": "0f320a7e",
   "metadata": {},
   "outputs": [],
   "source": [
    "## import here\n",
    "from sklearn.neighbors import KNeighborsClassifier"
   ]
  },
  {
   "cell_type": "code",
   "execution_count": 8,
   "id": "0d1b4f7b",
   "metadata": {},
   "outputs": [
    {
     "data": {
      "text/plain": [
       "KNeighborsClassifier()"
      ]
     },
     "execution_count": 8,
     "metadata": {},
     "output_type": "execute_result"
    }
   ],
   "source": [
    "## make the model object\n",
    "knn = KNeighborsClassifier(5)\n",
    "\n",
    "## \"fit\" the model object (Note fit is in quotation marks because this algorithm actually has no fitting step!).\n",
    "knn.fit(X_train_train,y_train_train)\n"
   ]
  },
  {
   "cell_type": "code",
   "execution_count": 9,
   "metadata": {},
   "outputs": [
    {
     "data": {
      "text/plain": [
       "9"
      ]
     },
     "execution_count": 9,
     "metadata": {},
     "output_type": "execute_result"
    }
   ],
   "source": [
    "## predict\n",
    "pred_train = knn.predict(X_train_train)\n",
    "pred = knn.predict(X_val)\n",
    "pred[1]"
   ]
  },
  {
   "cell_type": "code",
   "execution_count": 10,
   "metadata": {},
   "outputs": [
    {
     "data": {
      "text/plain": [
       "<matplotlib.image.AxesImage at 0x26d36322d90>"
      ]
     },
     "execution_count": 10,
     "metadata": {},
     "output_type": "execute_result"
    },
    {
     "data": {
      "image/png": "[encoded data removed]",
      "text/plain": [
       "<Figure size 576x504 with 1 Axes>"
      ]
     },
     "metadata": {},
     "output_type": "display_data"
    }
   ],
   "source": [
    "plt.imshow(X_val[1].reshape(8,8),cmap='gray_r')"
   ]
  },
  {
   "cell_type": "code",
   "execution_count": 19,
   "metadata": {},
   "outputs": [
    {
     "data": {
      "text/plain": [
       "array([[0., 0., 0., 0., 0., 1., 0., 0., 0., 0.]])"
      ]
     },
     "execution_count": 19,
     "metadata": {},
     "output_type": "execute_result"
    }
   ],
   "source": [
    "## Instead of just predicting which digit it is, we can also predict the probabilty of being each of the 10 digits using predict_proba\n",
    "knn.predict_proba([X_val[5]])"
   ]
  },
  {
   "cell_type": "markdown",
   "id": "4920dc93",
   "metadata": {},
   "source": [
    "##### How to measure classification performance?\n",
    "\n",
    "There are many ways! Perhaps the most common, or default approach is to use <i>accuracy</i>. Accuracy measures the proportion of all predictions made that are correct."
   ]
  },
  {
   "cell_type": "code",
   "execution_count": 12,
   "id": "5fc0437e",
   "metadata": {},
   "outputs": [],
   "source": [
    "from sklearn.metrics import accuracy_score #(truth==predicted)/len(predicted)"
   ]
  },
  {
   "cell_type": "code",
   "execution_count": 13,
   "id": "a5900534",
   "metadata": {},
   "outputs": [
    {
     "name": "stdout",
     "output_type": "stream",
     "text": [
      "Our k-NN model has a training accuracy of 99.04\n",
      "Our k-NN model has a validation accuracy of 99.31\n"
     ]
    }
   ],
   "source": [
    "## Get the validation accuracy for our model here\n",
    "print(\"Our k-NN model has a training accuracy of\",\n",
    "         np.round(100*accuracy_score(y_train_train, knn.predict(X_train_train)),2))\n",
    "\n",
    "print(\"Our k-NN model has a validation accuracy of\",\n",
    "         np.round(100*accuracy_score(y_val, knn.predict(X_val)),2))\n"
   ]
  },
  {
   "cell_type": "markdown",
   "metadata": {},
   "source": [
    "# NeuralNets"
   ]
  },
  {
   "cell_type": "code",
   "execution_count": 14,
   "metadata": {},
   "outputs": [],
   "source": [
    "## import the model\n",
    "from sklearn.neural_network import MLPClassifier"
   ]
  },
  {
   "cell_type": "code",
   "execution_count": 15,
   "metadata": {},
   "outputs": [],
   "source": [
    "## this makes an mlp classifier with 1 hidden layer\n",
    "## this layer has 500 nodes, controlled by hidden_layer_sizes\n",
    "## we increase the maximum iterations for the gradient descent\n",
    "mlp1 = MLPClassifier(hidden_layer_sizes=(500,), max_iter=5000)\n",
    "\n",
    "## Here's a second classifier with 2 hidden layers of 200 nodes each,\n",
    "## controlled by hidden_layer_sizes\n",
    "## we increase the maximum iterations for the gradient descent\n",
    "mlp2 = MLPClassifier(hidden_layer_sizes=(250, 250,), max_iter=5000)"
   ]
  },
  {
   "cell_type": "code",
   "execution_count": 16,
   "metadata": {},
   "outputs": [
    {
     "data": {
      "text/plain": [
       "MLPClassifier(hidden_layer_sizes=(250, 250), max_iter=5000)"
      ]
     },
     "execution_count": 16,
     "metadata": {},
     "output_type": "execute_result"
    }
   ],
   "source": [
    "## Fit the two classifiers\n",
    "mlp1.fit(X_train_train, y_train_train)\n",
    "mlp2.fit(X_train_train, y_train_train)"
   ]
  },
  {
   "cell_type": "markdown",
   "metadata": {},
   "source": [
    "Let's now check the accuracies for these two models."
   ]
  },
  {
   "cell_type": "code",
   "execution_count": 17,
   "metadata": {},
   "outputs": [],
   "source": [
    "from sklearn.metrics import accuracy_score"
   ]
  },
  {
   "cell_type": "code",
   "execution_count": 18,
   "metadata": {},
   "outputs": [
    {
     "name": "stdout",
     "output_type": "stream",
     "text": [
      "The single hidden layer with 500 nodes has a training accuracy of 100.0\n",
      "The single hidden layer with 500 nodes has a validation accuracy of 96.18\n",
      "The two hidden layers with 200 nodes each has a training accuracy of 100.0\n",
      "The two hidden layers with 200 nodes each has a validation accuracy of 95.14\n"
     ]
    }
   ],
   "source": [
    "print(\"The single hidden layer with 500 nodes has a training accuracy of\",\n",
    "         np.round(100*accuracy_score(y_train_train, mlp1.predict(X_train_train)),2))\n",
    "\n",
    "print(\"The single hidden layer with 500 nodes has a validation accuracy of\",\n",
    "         np.round(100*accuracy_score(y_val, mlp1.predict(X_val)),2))\n",
    "\n",
    "print(\"The two hidden layers with 200 nodes each has a training accuracy of\",\n",
    "         np.round(100*accuracy_score(y_train_train, mlp2.predict(X_train_train)),2))\n",
    "\n",
    "print(\"The two hidden layers with 200 nodes each has a validation accuracy of\",\n",
    "         np.round(100*accuracy_score(y_val, mlp2.predict(X_val)),2))"
   ]
  },
  {
   "cell_type": "markdown",
   "metadata": {},
   "source": [
    "What architecture works best for you depends upon the problem you are dealing with. Typically you will have to do some sort of tuning process to find the <i>optimal</i> architecture."
   ]
  }
 ],
 "metadata": {
  "kernelspec": {
   "display_name": "Python 3.8.5 ('base')",
   "language": "python",
   "name": "python3"
  },
  "language_info": {
   "codemirror_mode": {
    "name": "ipython",
    "version": 3
   },
   "file_extension": ".py",
   "mimetype": "text/x-python",
   "name": "python",
   "nbconvert_exporter": "python",
   "pygments_lexer": "ipython3",
   "version": "3.8.5"
  },
  "vscode": {
   "interpreter": {
    "hash": "fa55ed972a14d9a3633eff1dd39d6c0d9f65c7bde92fc4c9d260c3ad5154e7db"
   }
  }
 },
 "nbformat": 4,
 "nbformat_minor": 2
}
